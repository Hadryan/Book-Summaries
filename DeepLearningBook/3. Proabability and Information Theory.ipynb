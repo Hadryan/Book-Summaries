{
 "cells": [
  {
   "cell_type": "markdown",
   "metadata": {},
   "source": [
    "# Deep Learning Book: Probabilty and Information Theory"
   ]
  },
  {
   "cell_type": "markdown",
   "metadata": {},
   "source": [
    "In probability theory, an **event** is a set of outcomes of an **experiment** to which a **probability** is assigned. If **E** represents an event, then **P(E)** represents the probability that E will occur. A situation where E might happen (success) or might not happen (failure) is called a **trial**. When we say that an outcome has a probability p of occurring, it means that if we repeated the experiment infinitely many times, then proportion p of the repetitions would result in that outcome. According to the book, nearly all activities require some ability to reason in the presence of uncertainty."
   ]
  },
  {
   "cell_type": "markdown",
   "metadata": {},
   "source": [
    "The chapter is divided into following sections and subsections "
   ]
  },
  {
   "cell_type": "markdown",
   "metadata": {},
   "source": [
    "* Why Probability\n",
    "* Random Variables\n",
    "* Probability Distributions\n",
    "    * Discrete Variables and Probability Mass Functions\n",
    "    * Continuous Variables and Probablity Density Functions\n",
    "* Marginal Probability\n",
    "* Conditional Proability\n",
    "* The Chain rule of Conditional Probabilities\n",
    "* Independence or Conditional Independence\n",
    "* Expectation, Variance and Covariance\n",
    "* Common Probability Distributions\n",
    "    * Bernoulli\n",
    "    * Multinoulli\n",
    "    * Gaussian\n",
    "    * Exponential and Laplace Distributions\n",
    "    * The Dirac Distributiona and Empirical Distribution\n",
    "    * Mixtures of Distribution\n",
    "* Useful properties of Common Functions\n",
    "* Baye's Rule\n",
    "* Technical Details of Continuous Variables\n",
    "* Information Theory\n",
    "* Structured Probablistic Models"
   ]
  },
  {
   "cell_type": "markdown",
   "metadata": {},
   "source": [
    "### 1. Why Probability"
   ]
  },
  {
   "cell_type": "markdown",
   "metadata": {},
   "source": [
    "As mentioned earlier, very few things are certain. So Machine Learning models should reason using probabilistic rules. In the language of the book, machine learning must always deal with uncertain quantities and sometimes stochastic (nondeterministic) quantities. Uncertainty and stochasticity can arise from many sources.  The three possible sources are:\n",
    "\n",
    "1. Inherent Stochasticity in the system being modelled: A situation where the outcome is really random. For e.g, say we have a language model which predicts the next word in the sentence. For it, a sentence like *Github is ___* is difficult because the next word can be anything\n",
    "\n",
    "2. Imcomplete observability: For example, in the Monty Hall problem, the outcome given the contestant’s choice is deterministic, but from the contestant’s point of view, the outcome is uncertain.\n",
    "\n",
    "3. Incomplete modeling. When we use a model that must discard some ofthe information we have observed, the discarded information results inuncertainty in the model’s predictions. \n",
    "\n",
    "In many cases, it is more practical to use a simple but uncertain rule ratherthan a complex. The book gives a great example of birds. It makes more sense to remember “most birds can fly” than “all birds can fly except sick, injured or very young birds etc.”."
   ]
  },
  {
   "cell_type": "markdown",
   "metadata": {},
   "source": [
    "If we have a probability related directly to the rates at which events occur, this probability known as **Frequentist probability** (deal the cards).\n",
    "\n",
    "If probability related to qualitative levels of certainty, it’s known as **Bayesian probability** (have patient flue or not). In such a case we'll have a **degree of belief**, with 1 indicating absolute certainty that the patient has the flu and 0 indicating absoluting certainty that the patient doesn't have the flu."
   ]
  },
  {
   "cell_type": "markdown",
   "metadata": {},
   "source": [
    "### 2. Random Variables"
   ]
  },
  {
   "cell_type": "markdown",
   "metadata": {},
   "source": [
    "A random variableis a variable that can take on diﬀerent values randomly (Can't be more obvious :P). \n",
    "\n",
    "Random variables may be **discrete** or **continuous**. A discrete random variable is one that has a finite or countably infinite number of states. Note that these states are not necessarily the integers; they can also just be named states that are not considered to have any numerical value. A continuous random variable is associated with a real value\n",
    "\n",
    "On its own, a random variable is just a description of the states that are possible; it must be coupled with a **probability distribution** that speciﬁes how likely each of these states are."
   ]
  },
  {
   "cell_type": "markdown",
   "metadata": {},
   "source": [
    "### 3. Probability Distributions"
   ]
  },
  {
   "cell_type": "markdown",
   "metadata": {},
   "source": [
    "A probability distribution is a description of how likely a random variable or set of random variables is to take on each of its possible states."
   ]
  },
  {
   "cell_type": "markdown",
   "metadata": {},
   "source": [
    "#### 3.1 Discrete Variables and Probability Mass Functions"
   ]
  },
  {
   "cell_type": "markdown",
   "metadata": {},
   "source": [
    "A probability distribution over ***discrete variables*** may be described using a **probability mass function(PMF)**.The probability mass function maps from a state of a random variable tothe probability of that random variable taking on that state.\n",
    "\n",
    "Probability mass functions can act on many variables at the same time. Such a probability distribution over many variables is known as a **joint probability distribution**.P(x=*x*, y=*y*) denotes the probability that x=*x* and y=*y* simultaneously. We may also write P (*x*, *y*) for brevity."
   ]
  },
  {
   "cell_type": "markdown",
   "metadata": {},
   "source": [
    "To be a PMF on a random variable x, a function P must satisfy the following properties:\n",
    "* The domain of P must be the set of all possible states of x.\n",
    "* ∀*x* $\\epsilon$ x,0≤ P(*x*)≤1.\n",
    "* $\\sum_{\\varkappa \\epsilon x}$ **P(*x*)** = 1 (Normalization)"
   ]
  },
  {
   "cell_type": "markdown",
   "metadata": {},
   "source": [
    "For example, a single discrete random variable x with k different states. In a uniform distribution on x by setting PMF to         \n",
    "P(x = $\\varkappa_i$) = 1/k for all i. We can also see that this is normalized since adding up them all results in 1"
   ]
  },
  {
   "cell_type": "markdown",
   "metadata": {},
   "source": [
    "#### 3.2 Continuous Variables and Probability Density Functions"
   ]
  },
  {
   "cell_type": "markdown",
   "metadata": {},
   "source": [
    "For ***continuous random variables***, we describe probability distributions using a **probability density function(PDF)**. "
   ]
  },
  {
   "cell_type": "markdown",
   "metadata": {},
   "source": [
    "To be a PDF, a function *p* must satisfy the following properties:\n",
    "* The domain of *p* must be the set of all possible states of x.\n",
    "* $\\forall$*x* $\\epsilon$ x, p(*x*) ≥ 0. Note that we do not require p(x) ≤ 1.\n",
    "* $\\int$p(*x*) d*x* = 1\n",
    "\n",
    "\n",
    "A probability density function p(*x*) does not give the probability of a speciﬁc state directly; instead the probability of landing inside an inﬁnitesimal region withvolume δ*x* is given by p(*x*)δ*x*"
   ]
  },
  {
   "cell_type": "markdown",
   "metadata": {},
   "source": [
    "### 4. Marginal Probability"
   ]
  },
  {
   "cell_type": "markdown",
   "metadata": {},
   "source": [
    "Marginal probability is the probability distribution over a **subset of a set**.\n",
    "Suppose we know P(x,y) for discrete random variables x and y. We can find P(x) with the sum rule: ∀*x*∈x,P(x)=∑yP(x=*x*,y=*y*).\n",
    "\n",
    "For continuous variables, we need to use integration instead of summation: p(x)=∫p(x,y)dy\n",
    "\n",
    "When the values of P(x,y) are written in a grid with different values of x in rows and different values of y in columns, it is natural to sum across a row of the grid, then write P(x) in the margin of the paper just to the right of the row.(ref. figure below)\n"
   ]
  },
  {
   "cell_type": "markdown",
   "metadata": {},
   "source": [
    "![image.png](https://www.statisticshowto.datasciencecentral.com/wp-content/uploads/2014/02/marginal-distributions-1.jpg)"
   ]
  },
  {
   "cell_type": "markdown",
   "metadata": {},
   "source": [
    "### 5. Conditional Probability"
   ]
  },
  {
   "cell_type": "markdown",
   "metadata": {},
   "source": [
    "Marginalization allows us to get the distribution of variable X ignoring variable Y from the joint distribution of X and Y, but what if we want to know the distribution of X given a specific value of Y? Conditional Probability is the probability of **some event X, given that some other event Y has happened**. It is denoted by $P(X \\hspace{.1cm}| \\hspace{.1cm} Y)$ such that \n",
    "$$ P(\\text{y} = y \\hspace{.1cm}| \\hspace{.1cm} \\text{x} = x) = \\frac{P(\\text{y} = y , \\text{x} = x)}{P(\\text{x} = x)} $$\n",
    "\n"
   ]
  },
  {
   "cell_type": "markdown",
   "metadata": {},
   "source": [
    "To give an example, suppose you know that Jens can speak Germany but want to know the probability that he belongs to Germany. In such a case, you'll make use of conditional probability.\n",
    "\n",
    "however, note that conditional probability does not imply causation. To take a common example from Pearl & Mackenzie, the probability of the sun rising, given that the rooster has crowed, is high. But in no way implies that the rooster's crowing causes the sun to rise.\n",
    "\n",
    "More precisely, the conditional probability holds under the assumption of observation without intervention. **If we observe the rooster crowing without having intervened and forcing it to crow, there is a good chance that the sun has risen. But if we intervene by forcing the rooster to crow, the crowing is no longer related to the sunrise.**"
   ]
  },
  {
   "cell_type": "markdown",
   "metadata": {},
   "source": [
    "![image](https://cdn-images-1.medium.com/max/800/0*onMpZmT5fGksbqWW.png)"
   ]
  },
  {
   "cell_type": "markdown",
   "metadata": {},
   "source": [
    "### 6. The Chain Rule of Conditional Probabilities"
   ]
  },
  {
   "cell_type": "markdown",
   "metadata": {},
   "source": [
    "Any joint probability distribution over many random variables may be decomposed into conditional distributions over only one variable:\n",
    "\n",
    "$$P(\\text{x}^{(1)}, ..., \\text{x}^{(n)}) = P(\\text{x}^{(1)}) \\prod_{i=2}^{n} P(\\text{x}^{(i)} \\hspace{.1cm} | \\hspace{.1cm} \\text{x}^{(1)},..., \\text{x}^{(i-1)}) $$\n",
    "\n",
    "This observation is known as the chain rule or product rule of probability. For example:\n",
    "Suppose we want to decompose $P(\\text{a}, \\text{b}, \\text{c})$. Applying the formula for conditional probability to $P(\\text{a}, \\text{b}, \\text{c})$, we get:\n",
    "\n",
    "$$ P(\\text{a}, \\text{b}, \\text{c}) = P(\\text{a} \\hspace{.1cm} | \\hspace{.1cm} \\text{b}, \\text{c})P(\\text{b}, \\text{c}) $$$$\\Rightarrow P(\\text{a}, \\text{b}, \\text{c}) = P(\\text{a} \\hspace{.1cm} | \\hspace{.1cm} \\text{b}, \\text{c})P(\\text{b} \\hspace{.1cm} | \\hspace{.1cm} \\text{c}) P(\\text{c})\n",
    "$$"
   ]
  },
  {
   "cell_type": "markdown",
   "metadata": {},
   "source": [
    "### 7. Independence and Conditional Independence"
   ]
  },
  {
   "cell_type": "markdown",
   "metadata": {},
   "source": [
    "Two random variables x and y are **independent (x $\\perp$ y)** if their probability distribution can be expressed as a product of two factors, one involving only x and one involving only y"
   ]
  },
  {
   "cell_type": "markdown",
   "metadata": {},
   "source": [
    "$$ \\forall x \\in \\text{x}, y \\in \\text{y}, P(\\text{x} = x, \\text{y} = y) = P(\\text{x} = x)P(\\text{y} = y) $$"
   ]
  },
  {
   "cell_type": "markdown",
   "metadata": {},
   "source": [
    "Two random variables x and y are **conditionally independent (x $\\perp$ y | z)** given a random variable z if the conditional probability distribution over x and y factorizes in this way for every value of z. Symbolically:\n"
   ]
  },
  {
   "cell_type": "markdown",
   "metadata": {},
   "source": [
    "$$ \\forall x \\in \\text{x}, y \\in \\text{y}, \\forall z \\in \\text{z}, P(\\text{x} = x, \\text{y} = y \\hspace{.1cm} | \\hspace{.1cm}  \\text{z} = z) = P(\\text{x} = x \\hspace{.1cm} | \\hspace{.1cm} \\text{z} = z)P(\\text{y} = y \\hspace{.1cm} | \\hspace{.1cm} \\text{z} = z) $$"
   ]
  },
  {
   "cell_type": "markdown",
   "metadata": {},
   "source": [
    "### 8. Expectation, Variance and Covariance"
   ]
  },
  {
   "cell_type": "markdown",
   "metadata": {},
   "source": [
    "The **expectation**, or expected value, of some function $f(x)$ with respect to a probability distribution $P(x)$ is the average, or mean value, that the function $f$ takes on, when $x$ is drawn from $P$. For discrete variables this can be computed with a summation: \n",
    "\n",
    "$$ \\mathbb{E}_{x \\sim P}[f(x)] = \\sum_{x} P(x)f(x) $$\n",
    "\n",
    "For continuous variables, it is computed with an integral: $$ \\mathbb{E}_{x \\sim p}[f(x)] = \\int p(x)f(x) $$\n",
    "\n",
    "The expectation of $f(x)$ is simply represented as $\\mathbb{E}[f(x)]$. By default, we can assume that E[⋅] averages over the values of all the random variables inside the brackets. Likewise, when there is no ambiguity, we may omit the square brackets.\n",
    "\n",
    "Expectations are linear: \n",
    "\n",
    "$$ \\mathbb{E}_{x}[\\alpha f(x) + \\beta g(x)] = \\alpha \\mathbb{E}_{x}[f(x)] + \\beta \\mathbb{E}_{x}[g(x)]$$"
   ]
  },
  {
   "cell_type": "markdown",
   "metadata": {},
   "source": [
    "The **variance** gives a measure of how much the values of a function of a random variable x vary as we sample different values of x from its probability distribution:\n",
    "\n",
    "$$ Var(f(x)) = \\mathbb{E}[(f(x) - \\mathbb{E}[f(x)])^2] $$\n",
    "When the variance is low, the values of f(x) cluster near their expected value. The square root of the variance is known as the standard deviation."
   ]
  },
  {
   "cell_type": "markdown",
   "metadata": {},
   "source": [
    "The **covariance** gives some sense of how much two values are linearly related to each other, as well as the scale of these variables:\n",
    "\n",
    "$$ Cov(f(x), g(y)) = \\mathbb{E}[(f(x) - \\mathbb{E}[f(x)])(g(y) - \\mathbb{E}[g(y)])] $$\n",
    "\n",
    "High values of correlation indicate that the variables are far from their respective means. A positive values indicate that both the variables tend to take high values simultaneously, whereas a negative value indicates that when one of the variables takes a high value, the other one tends to take a lower value.\n",
    "\n",
    "Note that It is possible for two variables to be dependent but havezero covariance.\n",
    "\n",
    "Covariance matrix of a random vector $\\boldsymbol{x} \\in \\mathbb{R} ^{n}$ is an $n$ x $n$ matrix denoted by $\\Sigma$, such that:\n",
    "\n",
    "$$ Cov(x)_{i, j} = Cov(x_i, x_j), i \\neq j$$\n",
    "\n",
    "**The diagonal elements of the covariance give the variance:**\n",
    "\n",
    "\n",
    "$$ Cov(x)_{i, i} = Var(x_i)$$\n"
   ]
  },
  {
   "cell_type": "markdown",
   "metadata": {},
   "source": [
    "**Correlation** measures how two variables are linearly related. A correlation matrix is a table showing correlation coefficients between sets of variables. Each random variable (Xi) in the table is correlated with each of the other values in the table (Xj). This allows you to see which pairs have the highest correlation.\n",
    "\n",
    "The heatmap below shows a correlation matrix"
   ]
  },
  {
   "cell_type": "code",
   "execution_count": 22,
   "metadata": {},
   "outputs": [
    {
     "name": "stdout",
     "output_type": "stream",
     "text": [
      "          0         1         2         3\n",
      "0  1.000000  0.710848 -0.080594  0.901912\n",
      "1  0.710848  1.000000  0.643767  0.944911\n",
      "2 -0.080594  0.643767  1.000000  0.357825\n",
      "3  0.901912  0.944911  0.357825  1.000000\n"
     ]
    },
    {
     "data": {
      "image/png": "[encoded data removed]",
      "text/plain": [
       "<Figure size 432x288 with 2 Axes>"
      ]
     },
     "metadata": {},
     "output_type": "display_data"
    }
   ],
   "source": [
    "# Correction Matrix Plot\n",
    "import matplotlib.pyplot as plt\n",
    "import pandas as pd\n",
    "import numpy\n",
    "data = pd.DataFrame([[5000,0.0001,-70,-8],[20000,0.0004,-46,-5],[9093,0.0004,59,-6]]) #data\n",
    "correlations = data.corr()\n",
    "print(correlations)\n",
    "# plot correlation matrix\n",
    "fig = plt.figure()\n",
    "ax = fig.add_subplot(111)\n",
    "cax = ax.matshow(correlations, vmin=-1, vmax=1)\n",
    "fig.colorbar(cax)\n",
    "ticks = numpy.arange(0,9,1)\n",
    "plt.show()"
   ]
  },
  {
   "cell_type": "markdown",
   "metadata": {},
   "source": [
    "The diagonal of the table is always a set of ones, because the correlation between a variable and itself is always 1. The upper-right triangle, is repeat of the lower-left triangle (because B1:B2 is the same as B2:B1); In other words, a correlation matrix is also a symmetric matrix. You can change the values of data in the avove code and observe the change in correlation."
   ]
  },
  {
   "cell_type": "markdown",
   "metadata": {},
   "source": [
    "### 9. Common Probability Distributions"
   ]
  },
  {
   "cell_type": "markdown",
   "metadata": {},
   "source": [
    "#### 9.1 Bernoulli Distribution"
   ]
  },
  {
   "cell_type": "markdown",
   "metadata": {},
   "source": [
    "The Bernoulli distribution is a distribution over a single binary random variable. It is controlled by a single parameter $\\phi \\in [0,1]$, which gives the probability of the random variable being equal to 1. "
   ]
  },
  {
   "cell_type": "markdown",
   "metadata": {},
   "source": [
    "It has following properties:\n",
    "\n",
    "* $P (x = 1) = \\phi $ \n",
    "* $P (x = 0) = 1 − φ$ \n",
    "* $P (\\text{x} = x) = \\phi^x(1 − \\phi)^{1−x}$\n",
    "* $E_x[x] = \\phi$ \n",
    "* $Var_x(x) = \\phi(1 − \\phi)$"
   ]
  },
  {
   "cell_type": "markdown",
   "metadata": {},
   "source": [
    "![image](https://i1.wp.com/markojerkic.com/wp-content/uploads/2018/02/bi.png?resize=640%2C480)"
   ]
  },
  {
   "cell_type": "markdown",
   "metadata": {},
   "source": [
    "#### 9.2 Multinoulli Distribution"
   ]
  },
  {
   "cell_type": "markdown",
   "metadata": {},
   "source": [
    "The multinoulli or categorical distribution is a distribution over a single discrete variable with k different states, where k is finite.  It is parameterized by a vector $\\boldsymbol{p} \\in [0,1] ^{k-1}$, where $p_i$ indicates the probability of the $i^{th}$ state. The final $k^{th}$ state is given by $(1 - \\boldsymbol{1}^T \\boldsymbol{p})$ where $\\boldsymbol{1}^T \\boldsymbol{p} \\leq 1$. "
   ]
  },
  {
   "cell_type": "markdown",
   "metadata": {},
   "source": [
    "![image](https://i0.wp.com/markojerkic.com/wp-content/uploads/2018/02/mulit.png?resize=640%2C480)"
   ]
  },
  {
   "cell_type": "markdown",
   "metadata": {},
   "source": [
    "#### 9.3 Gaussian Distribution"
   ]
  },
  {
   "cell_type": "markdown",
   "metadata": {},
   "source": [
    "The most commonly used distribution over real numbers is the **normal or gaussian distribution**: \n",
    "\n",
    "$$ \\mathcal{N}(x; \\mu, \\sigma) = \\sqrt{\\frac{1}{2 \\pi \\sigma^2}} exp(-\\frac{1}{2\\sigma^2}(x-\\mu)^2)$$\n",
    "\n",
    "where $\\mu$ is the mean (or peak value) of the distribution and $\\sigma^2$ denotes the variance. "
   ]
  },
  {
   "cell_type": "markdown",
   "metadata": {},
   "source": [
    "In the absenceof prior knowledge about what form a distribution over the real numbers shouldtake, the normal distribution is a good default choice for two major reasons:\n",
    "\n",
    "* **Central Limit theorem**: The sum of many indepen-dent random variables is approximately normally distributed.\n",
    "* Out of all possible probability distributions with the same variance,the normal distribution encodes the maximum amount of uncertainty over thereal numbers"
   ]
  },
  {
   "cell_type": "markdown",
   "metadata": {},
   "source": [
    "When generalized to $\\mathbb{R}^n$, normal distribution becomes **multivariate normal distribution**. \n",
    "It is given by:\n",
    "\n",
    "\n",
    "The parameter μ still gives the mean of the distribution, though now it is vector-valued. The parameter Σ gives the covariance matrix of the distribution. Instead of inverting $\\boldsymbol{\\Sigma}$ , we can use a precision matrix $\\boldsymbol{\\beta}$"
   ]
  },
  {
   "cell_type": "markdown",
   "metadata": {},
   "source": [
    "#### 9.4 Exponential and Laplace distributions"
   ]
  },
  {
   "cell_type": "markdown",
   "metadata": {},
   "source": [
    "To have a probability distribution with a sharp peak at x = 0, we can use the **exponential distribution**:\n",
    "\n",
    "$$ p(x; \\lambda) = \\lambda \\hspace{.05cm} exp(-\\lambda x), \\forall x \\geq 0$$\n",
    "\n",
    "i.e., probability of all negative values of x is 0\n",
    "\n",
    "A similar probability distribution that allows us to place a sharp peakof probability mass at an arbitrary point µ is the **Laplace Distribution**\n"
   ]
  },
  {
   "cell_type": "markdown",
   "metadata": {},
   "source": [
    "$$Laplace(x; \\mu, \\gamma) = \\frac{1}{2 \\gamma} \\hspace{.05cm} exp(-\\frac{|x-\\mu|}{\\gamma})$$"
   ]
  },
  {
   "cell_type": "markdown",
   "metadata": {},
   "source": [
    "#### 9.5 The Dirac Distribution and Empirical Distribution"
   ]
  },
  {
   "cell_type": "markdown",
   "metadata": {},
   "source": [
    "The Dirac delta function is defined such that it is zero everywhere except 0, where its value is 1. $$ \\\\ \\delta(x) = \\begin{cases} 1 &\\quad x = 0\\\\ 0 &\\quad otherwise \\end{cases} \\\\ $$"
   ]
  },
  {
   "cell_type": "markdown",
   "metadata": {},
   "source": [
    "It is used in the cases where we wish to specify that all of the mass in a probability distribution clusters around a single point."
   ]
  },
  {
   "cell_type": "markdown",
   "metadata": {},
   "source": [
    "$$ p(x) = \\hspace{.05cm} \\delta(x - \\mu) $$"
   ]
  },
  {
   "cell_type": "markdown",
   "metadata": {},
   "source": [
    "![image](https://lpsa.swarthmore.edu/BackGround/ImpulseFunc/img71.gif)"
   ]
  },
  {
   "cell_type": "markdown",
   "metadata": {},
   "source": [
    "By defining p(x) to be δ shifted by −μ we obtain an infinitely narrow and infinitely high peak of probability mass where x=μ.\n",
    "\n",
    "A common use of the Dirac delta distribution is as a component of an **empirical distribution**:"
   ]
  },
  {
   "cell_type": "markdown",
   "metadata": {},
   "source": [
    "$$ \\hat{p}(\\boldsymbol{x}) = \\frac{1}{m}\\sum_{i=1}^{m} \\delta(\\boldsymbol{x} - \\boldsymbol{x}^{(i)}) $$\n",
    "which puts a probability mass of 1/m to each of the m points $\\boldsymbol{x}^{(i)}, i=1, 2, ... m$. This is because putting $\\boldsymbol{x} = \\boldsymbol{x}^{(i)}$ in the above equation will result in only one non-zero term."
   ]
  },
  {
   "cell_type": "markdown",
   "metadata": {},
   "source": [
    "#### 9.6 Mixtures of distributions"
   ]
  },
  {
   "cell_type": "markdown",
   "metadata": {},
   "source": [
    "A mixture distribution is made up of several component distributions. On each trial, the choice of which component distribution should generate the sample is determined by sampling a component identity from a multinoulli distribution"
   ]
  },
  {
   "cell_type": "markdown",
   "metadata": {},
   "source": [
    "$$ P(x) = \\sum_{i} P(c = i) P (x \\hspace{.1cm} | \\hspace{.1cm} c = i) $$\n",
    "where $P (c)$ is the multinoulli distribution over component identities."
   ]
  },
  {
   "cell_type": "markdown",
   "metadata": {},
   "source": [
    "A concept of high importance is of **latent variable**, which is a random variable that we cannot observe directly. In this case c is the altent variable. The distribution **P(c)** over the latent variable and the distribution **P(x | c)** relating the latent variables to the visible variables determines the shape of the distribution **P(x)**, even though it is possible to describe **P(x)** without reference to the latent variable. "
   ]
  },
  {
   "cell_type": "markdown",
   "metadata": {},
   "source": [
    "A very powerful and common type of mixture model is the **Gaussian mixture** model, in which the components **p(x|c=i)** are Gaussians. Each component has a sperately parametirized mean and covarience. The parameters also specify the prior probability. The word “prior” indicates that it expresses the model’s beliefs about c **before it has observed x**\n",
    "\n",
    "Similarly, $P(c \\hspace{.1cm} | \\hspace{.1cm} x)$ is a posterior probability, because it is computed after observation of x.\n",
    "\n",
    "A Gaussian mixture model is an **universal approximator** of densities, in the sense that any smooth density can be approximated with any specific, non-zero amount of error by a Gaussian mixture model with enough components"
   ]
  },
  {
   "cell_type": "markdown",
   "metadata": {},
   "source": [
    "### 10. Useful properties of Common Functions"
   ]
  },
  {
   "cell_type": "markdown",
   "metadata": {},
   "source": [
    "**Logistic sigmoid**"
   ]
  },
  {
   "cell_type": "markdown",
   "metadata": {},
   "source": [
    "The logistic sigmoid is commonly used to produce the φ parameter of a Bernoulli distribution because its range is (0,1). It is given by"
   ]
  },
  {
   "cell_type": "markdown",
   "metadata": {},
   "source": [
    "$$ \\sigma(x) = \\frac{1}{1 + exp(-x)} $$"
   ]
  },
  {
   "cell_type": "markdown",
   "metadata": {},
   "source": [
    "The sigmoid function saturates when its argument is very positive or very negative"
   ]
  },
  {
   "cell_type": "markdown",
   "metadata": {},
   "source": [
    "**Softplus Function**"
   ]
  },
  {
   "cell_type": "markdown",
   "metadata": {},
   "source": [
    "$$ \\varsigma(x) = log(1+exp(x)) $$"
   ]
  },
  {
   "cell_type": "markdown",
   "metadata": {},
   "source": [
    "The softplus function can be useful for producing the $\\beta$ or $\\sigma$ parameter of a normal distribution because its range is $(0, \\infty)$. The name of the softplus function comes from the fact that it is a smoothed, or “softened,” version of"
   ]
  },
  {
   "cell_type": "markdown",
   "metadata": {},
   "source": [
    "$$ x^+ = max(0, x) $$"
   ]
  },
  {
   "cell_type": "markdown",
   "metadata": {},
   "source": [
    "The plots below show the sigmoid and softplus functions"
   ]
  },
  {
   "cell_type": "code",
   "execution_count": 91,
   "metadata": {},
   "outputs": [],
   "source": [
    "import numpy as np\n",
    "import matplotlib.pyplot as plt\n",
    "\n",
    "def softplus(x):\n",
    "    return np.log(1 + np.exp(x))\n",
    "\n",
    "def sigmoid(x):\n",
    "    return 1 / (1 + np.exp(-x))\n",
    "\n",
    "def plot(x, func, label):\n",
    "    y = func(x)\n",
    "    plt.plot(x, y, label=label)\n",
    "    \n",
    "x = np.linspace(-8, 8, 100)\n"
   ]
  },
  {
   "cell_type": "code",
   "execution_count": 92,
   "metadata": {},
   "outputs": [
    {
     "data": {
      "text/plain": [
       "<matplotlib.legend.Legend at 0x21d547f9e48>"
      ]
     },
     "execution_count": 92,
     "metadata": {},
     "output_type": "execute_result"
    },
    {
     "data": {
      "image/png": "[encoded data removed]",
      "text/plain": [
       "<Figure size 432x288 with 1 Axes>"
      ]
     },
     "metadata": {},
     "output_type": "display_data"
    }
   ],
   "source": [
    "plot(x, softplus, label='softplus')\n",
    "plt.legend(loc= 'upper left')\n"
   ]
  },
  {
   "cell_type": "code",
   "execution_count": 93,
   "metadata": {},
   "outputs": [
    {
     "data": {
      "text/plain": [
       "<matplotlib.legend.Legend at 0x21d546886d8>"
      ]
     },
     "execution_count": 93,
     "metadata": {},
     "output_type": "execute_result"
    },
    {
     "data": {
      "image/png": "[encoded data removed]",
      "text/plain": [
       "<Figure size 432x288 with 1 Axes>"
      ]
     },
     "metadata": {},
     "output_type": "display_data"
    }
   ],
   "source": [
    "plot(x, sigmoid, label='sigmoid')\n",
    "plt.legend(loc = 'upper left')"
   ]
  },
  {
   "cell_type": "markdown",
   "metadata": {},
   "source": [
    "Some useful properties: \n",
    "\n",
    "![image](images/properties.png)"
   ]
  },
  {
   "cell_type": "markdown",
   "metadata": {},
   "source": [
    "### 11. Bayes' Rule"
   ]
  },
  {
   "cell_type": "markdown",
   "metadata": {},
   "source": [
    "In situations where we know $P(y \\hspace{.1cm} | \\hspace{.1cm} x)$ but we need to find $P(x \\hspace{.1cm} | \\hspace{.1cm} y)$, we make use of Baye's Rule"
   ]
  },
  {
   "cell_type": "markdown",
   "metadata": {},
   "source": [
    "$$ P(x \\hspace{.1cm} | \\hspace{.1cm} y) = \\frac{P(x)P(y \\hspace{.1cm} | \\hspace{.1cm} x)}{P(y)} $$"
   ]
  },
  {
   "cell_type": "markdown",
   "metadata": {},
   "source": [
    "where $P(y) = \\sum_x P(x)P(y \\hspace{.1cm}  | \\hspace{.1cm} x)$. "
   ]
  },
  {
   "cell_type": "markdown",
   "metadata": {},
   "source": [
    "### 12. Technical Details of Continuous Variables"
   ]
  },
  {
   "cell_type": "markdown",
   "metadata": {},
   "source": [
    "A proper formal understanding of continuous random variables and probability density functions requires developing probability theory in terms of a branch of mathematics known as **measure theory**. Measure theory is more useful for describing theorems that apply to most points in $\\mathbb{R}^n$ but do not apply to some corner cases."
   ]
  },
  {
   "cell_type": "markdown",
   "metadata": {},
   "source": [
    "Though measure theory is out of the scope of the book, it mentions following 3 concepts:"
   ]
  },
  {
   "cell_type": "markdown",
   "metadata": {},
   "source": [
    "* Measure theory provides a rigorous way of describing that a set of points is negligibly small. Such a set is said to have **measure zero.**  A set of measure zero occupies no volume in the space we are measuring.\n",
    "* A property that holds **almost everywhere** holds throughout all space except for on a set of measure zero. Some results that hold for all discrete values, hold \"almost everywhere\" only for continuous values.\n",
    "* Handling continuous functions that are deterministic functions of one another. Let $\\boldsymbol{y} = g(\\boldsymbol{x})$. It may be natural to think $p_y(\\boldsymbol{y}) = p_x(g^{-1}(\\boldsymbol{y}))$. However, this is not true. E.g. $y = x/2$ where $x$ follows the uniform distribution $U(0, 1)$. Now, assigning $p_y(\\boldsymbol{y}) = p_x(2y)$ would mean that $p_y$ would be $0$ everywhere except [0, 1/2]. Thus, we get: $$ \\int p_y(y)dy = \\frac{1}{2}$$ This violates the probability distribution. The reason for this is that the transformation $g$ distorts the space, which is not accounted for, above. The probability in a volume of $\\delta x$ is given by $p_x(x)\\delta x$. Taking a small volume in the $\\boldsymbol{y}$ space, the probalility would be $p_y(y)\\delta y$. Thus: \n",
    "\n",
    "$$ |p_y(y)\\delta y| = |p_x(x)\\delta x| $$$$ \\Rightarrow p_x(x) = p_y(y) \\hspace{.1cm} |\\frac{\\partial g(x)}{\\partial x}|$$ In higher dimensions, the derivative generalizes to the derivative of the Jacobian Matrix, $J_{i,j} = \\frac{\\partial x_i}{\\partial y_j}$."
   ]
  },
  {
   "cell_type": "markdown",
   "metadata": {},
   "source": [
    "### 13. Information Theory"
   ]
  },
  {
   "cell_type": "markdown",
   "metadata": {},
   "source": [
    "Information theory is a branch of applied mathematics that revolves around quantifying how much information is present in a signal. It was originally invented to study sending messages from discrete alphabets over a noisy channel, such as communication via radio transmission.\n",
    "\n",
    "The basic intuition behind information theory is that learning that an **unlikely event has occurred is more informative than learning that a likely event has occurred**."
   ]
  },
  {
   "cell_type": "markdown",
   "metadata": {},
   "source": [
    "* Likely events should have low information content, and in the extreme case, events that are guaranteed to happen should have no information content whatsoever.\n",
    "* Less likely events should have higher information content.\n",
    "* Independent events should have additive information. For example, finding out that a tossed coin has come up as heads twice should convey twice as much information as finding out that a tossed coin has come up as heads once."
   ]
  },
  {
   "cell_type": "markdown",
   "metadata": {},
   "source": [
    "The **self-information** of an event x = $x$ satisfies all the above mentioned properties: \n",
    "\n",
    "$$ I(x) = - \\text{log} P(x)$$"
   ]
  },
  {
   "cell_type": "markdown",
   "metadata": {},
   "source": [
    "Self-information deals only with a single outcome. We can quantify the amount of uncertainty in an entire probability distribution using the **Shannon entropy**:"
   ]
  },
  {
   "cell_type": "markdown",
   "metadata": {},
   "source": [
    "$$ H(x) = \\mathbb{E}_{x \\sim P}[I(x)] = - \\mathbb{E}_{x \\sim P}[\\text{log} P(x)]$$"
   ]
  },
  {
   "cell_type": "markdown",
   "metadata": {},
   "source": [
    "Shannon entropy of a distribution is the expected amount of information in an event drawn from that distribution. It gives a lower bound on the number of bits needed on average to encode symbols drawn from a distribution P. Distributions that are nearly deterministic (where the outcome is nearly certain) have low entropy; distributions that are closer to uniform have high entropy. When x is continuous, the Shannon entropy is known as the **differential entropy.**"
   ]
  },
  {
   "cell_type": "markdown",
   "metadata": {},
   "source": [
    "For a binary variable, the Shannon's entropy can be written as\n",
    "H(P) = -(P(0)*log(P(0)) + P(1)*log(P(1)))\n",
    "\n",
    "which is to say,\n",
    "\n",
    "H(P) = -(P(0)*log(P(0)) + (1-P(0))*log(1-P(0)))\n",
    "=> (P(0)-1)*log(1-P(0))-P(0)*log(P(0)\n",
    "\n",
    "A plot for the same is shown below"
   ]
  },
  {
   "cell_type": "code",
   "execution_count": 96,
   "metadata": {},
   "outputs": [
    {
     "data": {
      "text/plain": [
       "[<matplotlib.lines.Line2D at 0x21d56625860>]"
      ]
     },
     "execution_count": 96,
     "metadata": {},
     "output_type": "execute_result"
    },
    {
     "data": {
      "image/png": "[encoded data removed]",
      "text/plain": [
       "<Figure size 432x288 with 1 Axes>"
      ]
     },
     "metadata": {},
     "output_type": "display_data"
    }
   ],
   "source": [
    "import numpy as np\n",
    "import matplotlib.pyplot as plt\n",
    "%matplotlib inline\n",
    "\n",
    "def shannon_entropy(p):\n",
    "    return ((p-1)*np.log(1-p)-p*np.log(p))\n",
    "\n",
    "data = np.linspace(1e-5, 1 - 1e-5)\n",
    "entropy_values = shannon_entropy(data)\n",
    "plt.plot(data, entropy_values)"
   ]
  },
  {
   "cell_type": "markdown",
   "metadata": {},
   "source": [
    "If we have two separate probability distributions P(x) and Q(x) over the same random variable x, we can measure how different these two distributions are using the **Kullback-Leibler (KL) divergence**\n",
    "\n",
    "$$ D_{KL}(P||Q) = \\mathbb{E}_{x\\sim P} [log\\frac{P(x)}{Q(x)}] = \\mathbb{E}_{x\\sim P} [log P(x) - log Q(x)]$$"
   ]
  },
  {
   "cell_type": "markdown",
   "metadata": {},
   "source": [
    "The KL divergence has some properties of a distance metric:\n",
    "\n",
    "$D_{KL}(P||Q) \\geq 0$\n",
    "$D_{KL}(P||Q) = 0$ only if $P$ and $Q$ are the same distribution in the case of discrete variables, or equal \"almost everywhere\" for continous variables.\n",
    "However, it isn't a true distance metric as it is not symmetric, i.e., $D_{KL}(P||Q) \\neq D_{KL}(Q||P)$. Thus, choosing which quantity to minimize is an important choice to make.\n",
    "\n",
    "Another similar quantity is the cross-entropy: $H(P, Q) = H(P) + D_{KL}(P||Q)$. \n",
    "\n",
    "$$ H(P, Q) = -\\mathbb{E}_{x\\sim P} [log{Q(x)}] $$\n",
    "\n",
    "Since $Q$ doesn't participate in the omitted term, minimizing cross-entropy gives the same result as minimizing the KL divergence. Minimizing the KL divergence is not computationally feasible, and hence, we go for minimizing the cross-entropy."
   ]
  },
  {
   "cell_type": "code",
   "execution_count": null,
   "metadata": {},
   "outputs": [],
   "source": []
  }
 ],
 "metadata": {
  "kernelspec": {
   "display_name": "Python 3",
   "language": "python",
   "name": "python3"
  },
  "language_info": {
   "codemirror_mode": {
    "name": "ipython",
    "version": 3
   },
   "file_extension": ".py",
   "mimetype": "text/x-python",
   "name": "python",
   "nbconvert_exporter": "python",
   "pygments_lexer": "ipython3",
   "version": "3.6.5"
  }
 },
 "nbformat": 4,
 "nbformat_minor": 2
}
